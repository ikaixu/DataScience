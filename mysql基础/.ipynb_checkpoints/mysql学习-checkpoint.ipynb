{
 "cells": [
  {
   "cell_type": "markdown",
   "metadata": {},
   "source": [
    "# mysql学习和使用\n",
    "---\n",
    "## 1.1初次登录进入（以root用户进入）\n",
    "---\n",
    "1. 登录进入root用户\n",
    "&nbsp;\n",
    "```shell\n",
    "sudo mysql -u root -p\n",
    "```\n",
    "![a1](./a1.png)\n",
    "&nbsp;\n",
    "+ 一般登录方式\n",
    "```shell\n",
    "sudo mysql -u UserName -p\n",
    "```\n",
    "&nbsp;\n",
    "+ **补充：**远程登录\n",
    "```shell\n",
    "sudo mysql -h IpOfHost -u UserName -p\n",
    "```\n",
    "&nbsp;\n",
    "&nbsp;\n",
    "2. 创建一般用户\n",
    "```sql\n",
    " CREATE USER 'monty'@'localhost' IDENTIFIED BY 'some_pass';\n",
    " CREATE USER 'monty'@'%' IDENTIFIED BY 'some_pass';\n",
    "```\n",
    "__注:__含义是创建了用户名为monty，密码为some_pass的普通账户  \n",
    "__注:__@后面的ip地址为__允许__连接的客户端的ip地址，如果改为 '%'，就表示客户端没有ip地址的限制。\n",
    "```sql\n",
    " GRANT ALL PRIVILEGES ON mydb.* TO 'monty'@'localhost'\n",
    "```\n",
    "__注:__赋予新用户，从本地操作所有数据库.所有数据表的所有权限\n",
    "```sql\n",
    " GRANT ALL PRIVILEGES ON mydb.* TO 'monty'@'%'\n",
    "```\n",
    "__注:__赋予新用户，从外部操作所有数据库.所有数据表的所有权限（没有外部客户端的IP限制，但本地有限制）\n",
    "&nbsp;\n",
    "&nbsp;\n",
    "+ 创建用户时，如果后面是@'127.0.0.1'，则只能从本地连接。\n",
    "+ 创建用户时，如果后面是@'%'，就可以从外部（局域网或外网）连接；而且还可以从本地连接，且没有密码。\n",
    "+ 创建用户后，该用户就可以连接MySQL了，但默认什么权限都没有，想要操作数据库，就必须进行授权。\n",
    "+ 创建用户时，实际上是在mysql.user表中添加一条记录，Host（客户端地址）和User（用户名）共同确定记录的唯一性。\n",
    "+ 授权时，如果对应的记录（客户端地址和用户名）已经存在，就更新该记录；否则，会添加一条记录。\n",
    "+ 创建用户和授权，实际上都是操作mysql.user表。\n",
    "+ 综上所述，如果想给某个不存在的用户赋予数据库操作权限，只需一条授权命令即可。\n",
    "```sql\n",
    "grant all privileges on *.* to 'test'@'%' identified by '666666';\n",
    "# 只执行这条授权命令，会在授权的同时，创建test用户。\n",
    "# test用户，可以从外部连接MySQL（需要输入密码），具备所有权限。\n",
    "# test用户，也可以从本地连接MySQL（不能输入密码），只能连接，不具备数据库操作权限。\n",
    "# 如果想让test用户，在本地也具备所有权限，且用同样的密码，再授权一次即可。如下：\n",
    "grant all privileges on *.* to 'test'@'127.0.0.1' identified by '666666';\n",
    "```\n",
    "&nbsp;\n",
    "![a2](./a2.png)\n",
    "&nbsp;\n",
    "&nbsp;\n",
    "3. 退出root用户\n",
    "```Shell\n",
    "quit or exit\n",
    "```\n",
    "![a3](./a3.png)\n",
    "\n",
    "## 1.2用普通账户(DDL语句)\n",
    "---\n",
    "1. 登入普通用户\n",
    "```Shell\n",
    "sudo mysql -u kai -p\n",
    "```\n",
    "&nbsp;\n",
    "![a4](./a4.png)\n",
    "&nbsp;\n",
    "&nbsp;"
   ]
  },
  {
   "cell_type": "markdown",
   "metadata": {},
   "source": [
    "2. DDL语句（创建数据库）\n",
    "```sql\n",
    "create database NameOfDatabase;--创建数据库\n",
    "create database if not exists NameOfDatabase;--判断数据库是否存在，如果不存在则建立库\n",
    "create database NameOfDatabase character set NameOfCharacterSet;--创建数据库并且指定字符集\n",
    "```\n",
    "![a5](./a5.png)\n",
    "\n",
    "![a6](./a6.png)\n",
    "\n",
    "\n",
    "![a7](./a7.png)\n"
   ]
  },
  {
   "cell_type": "markdown",
   "metadata": {},
   "source": [
    "```sql\n",
    "show create database db1;--显示数据库的定义信息\n",
    "show create database db3;\n",
    "```\n",
    "![a8](./a8.png)\n",
    "\n",
    "![a9](./a9.png)\n"
   ]
  },
  {
   "cell_type": "markdown",
   "metadata": {},
   "source": [
    "```sql\n",
    "alter database db3 character set utf8;--修改db3的默认字符集为utf9\n",
    "```\n",
    "![a10](./a10.png)"
   ]
  },
  {
   "cell_type": "markdown",
   "metadata": {},
   "source": [
    "```sql\n",
    "drop database db2;--删除数据库db2\n",
    "```\n",
    "![a11](./a11.png)"
   ]
  },
  {
   "cell_type": "markdown",
   "metadata": {},
   "source": [
    "```sql\n",
    "select database();--查看正在使用的数据库\n",
    "```\n",
    "![a12](./a12.png)"
   ]
  },
  {
   "cell_type": "markdown",
   "metadata": {},
   "source": [
    "```sql\n",
    "use NameOfDatabase;--使用/切换数据库\n",
    "```\n",
    "![a13](./a13.png)"
   ]
  },
  {
   "cell_type": "markdown",
   "metadata": {},
   "source": [
    "3. DDL语句创建数据表\n",
    "+ ***注意是在数据库中创建数据表***"
   ]
  },
  {
   "cell_type": "markdown",
   "metadata": {},
   "source": [
    "```sql\n",
    "create table student(\n",
    "    id int,--整数\n",
    "    name varchar(20),--字符串\n",
    "    birthday date--日期，没有逗号\n",
    ")\n",
    "```\n",
    "![a14](./a14.png)"
   ]
  },
  {
   "cell_type": "markdown",
   "metadata": {},
   "source": [
    "```sql\n",
    "desc student;--描述表的结构\n",
    "show create table student;--查看创建表的sql语句\n",
    "```\n",
    "![a15](./a15.png)"
   ]
  },
  {
   "cell_type": "markdown",
   "metadata": {},
   "source": [
    "```sql\n",
    "create table stu1 like student;--创建一个结构相同的表\n",
    "```\n",
    "![a16](./a16.png)"
   ]
  },
  {
   "cell_type": "markdown",
   "metadata": {},
   "source": [
    "```sql\n",
    "drop table if exists student;--判断表是否存在，如果存在则删除\n",
    "drop table student;--删除表\n",
    "```\n",
    "![a17](./a17.png)"
   ]
  },
  {
   "cell_type": "markdown",
   "metadata": {},
   "source": [
    "```sql\n",
    "alter table stu1 add remark varchar(20);--为表stu1添加一列remark，该列类型是varchar；\n",
    "```\n",
    "![a18](./a18.png)"
   ]
  },
  {
   "cell_type": "markdown",
   "metadata": {},
   "source": [
    "```sql\n",
    "alter table stu1 modify remark varchar(100);--修改列remark的类型\n",
    "```\n",
    "![a19](./a19.png)"
   ]
  },
  {
   "cell_type": "markdown",
   "metadata": {},
   "source": [
    "```sql\n",
    "alter table stu1 change remark info varchar(20);--修改remark列的列名为info，修改列的类型为varchar(20)\n",
    "```\n",
    "![a20](./a20.png)"
   ]
  },
  {
   "cell_type": "markdown",
   "metadata": {},
   "source": [
    "```sql\n",
    "alter table stu1 drop id;--删除表stu1的id列\n",
    "```\n",
    "![a21](./a21.png)"
   ]
  },
  {
   "cell_type": "markdown",
   "metadata": {},
   "source": [
    "```sql\n",
    "rename table stu1 to stu;--重命名\n",
    "```\n",
    "![a22](./a22.png)"
   ]
  },
  {
   "cell_type": "markdown",
   "metadata": {},
   "source": [
    "```sql\n",
    "alter table stu character set gbk;--修改表格的字符集\n",
    "```\n",
    "![a23](./a23.png)"
   ]
  },
  {
   "cell_type": "code",
   "execution_count": null,
   "metadata": {},
   "outputs": [],
   "source": []
  }
 ],
 "metadata": {
  "kernelspec": {
   "display_name": "Python 3",
   "language": "python",
   "name": "python3"
  },
  "language_info": {
   "codemirror_mode": {
    "name": "ipython",
    "version": 3
   },
   "file_extension": ".py",
   "mimetype": "text/x-python",
   "name": "python",
   "nbconvert_exporter": "python",
   "pygments_lexer": "ipython3",
   "version": "3.7.4"
  }
 },
 "nbformat": 4,
 "nbformat_minor": 4
}
